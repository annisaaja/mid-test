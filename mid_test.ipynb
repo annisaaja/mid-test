{
  "nbformat": 4,
  "nbformat_minor": 0,
  "metadata": {
    "colab": {
      "provenance": []
    },
    "kernelspec": {
      "name": "python3",
      "display_name": "Python 3"
    },
    "language_info": {
      "name": "python"
    }
  },
  "cells": [
    {
      "cell_type": "markdown",
      "source": [
        "Soal Python 1 : Who is in the third place?"
      ],
      "metadata": {
        "id": "k0oHtFrUrp0H"
      }
    },
    {
      "cell_type": "code",
      "source": [
        "names = [\"Aldi\", \"Ahmad\", \"Isna\", \"Azmi\", \"Dila\"]\n",
        "scores = [80, 90, 95, 100, 85]\n",
        "result = third_place(names, scores)\n",
        "print(result)\n"
      ],
      "metadata": {
        "colab": {
          "base_uri": "https://localhost:8080/"
        },
        "id": "pF-AcpSdlF5X",
        "outputId": "08f6ed96-3024-4866-c856-0404c83e0348"
      },
      "execution_count": 11,
      "outputs": [
        {
          "output_type": "stream",
          "name": "stdout",
          "text": [
            "Pemenang ketiga: Ahmad\n"
          ]
        }
      ]
    },
    {
      "cell_type": "markdown",
      "source": [
        "Soal Python 2"
      ],
      "metadata": {
        "id": "_iUffKaFrwKH"
      }
    },
    {
      "cell_type": "code",
      "source": [
        "import math\n",
        "\n",
        "def distance(point1, point2):\n",
        "  \"\"\"\n",
        "  Fungsi ini menghitung jarak antara dua titik koordinat.\n",
        "  Args:\n",
        "    point1: Daftar yang berisi koordinat x dan y titik pertama.\n",
        "    point2: Daftar yang berisi koordinat x dan y titik kedua.\n",
        "  Returns:\n",
        "    Jarak antara dua titik sebagai float.\n",
        "  \"\"\"\n",
        "  x1, y1 = point1\n",
        "  x2, y2 = point2\n",
        "\n",
        "  # Menghitung selisih koordinat x dan y\n",
        "  delta_x = x2 - x1\n",
        "  delta_y = y2 - y1\n",
        "\n",
        "  # Menghitung kuadrat selisih koordinat\n",
        "  squared_distance = delta_x**2 + delta_y**2\n",
        "\n",
        "  # Menghitung akar kuadrat dari selisih kuadrat untuk mendapatkan jarak\n",
        "  distance = math.sqrt(squared_distance)\n",
        "  return distance\n",
        "\n",
        "# Contoh penggunaan\n",
        "point1 = [5, 5]\n",
        "point2 = [10, 5]\n",
        "\n",
        "jarak = distance(point1, point2)\n",
        "print(f\"Jarak antara {point1} dan {point2} adalah {jarak:.2f} unit.\")\n"
      ],
      "metadata": {
        "colab": {
          "base_uri": "https://localhost:8080/"
        },
        "id": "H3Kw3kRNwZOR",
        "outputId": "3e807360-8d30-413e-b083-bf10127af4c4"
      },
      "execution_count": 14,
      "outputs": [
        {
          "output_type": "stream",
          "name": "stdout",
          "text": [
            "Jarak antara [5, 5] dan [10, 5] adalah 5.00 unit.\n"
          ]
        }
      ]
    }
  ]
}